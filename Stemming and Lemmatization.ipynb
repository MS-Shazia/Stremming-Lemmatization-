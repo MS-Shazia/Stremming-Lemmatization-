{
 "cells": [
  {
   "cell_type": "markdown",
   "id": "654f6c12",
   "metadata": {},
   "source": [
    "# Stremming"
   ]
  },
  {
   "cell_type": "code",
   "execution_count": 1,
   "id": "64fc135d",
   "metadata": {},
   "outputs": [],
   "source": [
    "import nltk \n",
    "from nltk.stem import PorterStemmer\n",
    "from nltk.tokenize import word_tokenize"
   ]
  },
  {
   "cell_type": "code",
   "execution_count": 4,
   "id": "505c7bdb",
   "metadata": {},
   "outputs": [
    {
     "name": "stdout",
     "output_type": "stream",
     "text": [
      "Actual: It  Stem: it\n",
      "Actual: originated  Stem: origin\n",
      "Actual: from  Stem: from\n",
      "Actual: the  Stem: the\n",
      "Actual: idea  Stem: idea\n",
      "Actual: that  Stem: that\n",
      "Actual: there  Stem: there\n",
      "Actual: are  Stem: are\n",
      "Actual: readers  Stem: reader\n",
      "Actual: who  Stem: who\n",
      "Actual: prefer  Stem: prefer\n",
      "Actual: learning  Stem: learn\n",
      "Actual: new  Stem: new\n",
      "Actual: skills  Stem: skill\n",
      "Actual: from  Stem: from\n",
      "Actual: the  Stem: the\n",
      "Actual: comforts  Stem: comfort\n",
      "Actual: of  Stem: of\n",
      "Actual: their  Stem: their\n",
      "Actual: drawing  Stem: draw\n",
      "Actual: rooms  Stem: room\n"
     ]
    }
   ],
   "source": [
    "ps=PorterStemmer() #creating an instance of the class\n",
    "# creating a list of some words to be stemmed\n",
    "word_data= \"It originated from the idea that there are readers who prefer learning new skills from the comforts of their drawing rooms\"\n",
    "words=word_tokenize(word_data)\n",
    "for w in words:\n",
    "    print(\"Actual: %s  Stem: %s\"  % (w,ps.stem(w)))\n"
   ]
  },
  {
   "cell_type": "markdown",
   "id": "d1793a23",
   "metadata": {},
   "source": [
    "# Lemmatization"
   ]
  },
  {
   "cell_type": "code",
   "execution_count": 8,
   "id": "d27d72b3",
   "metadata": {},
   "outputs": [
    {
     "name": "stdout",
     "output_type": "stream",
     "text": [
      "Actual: It  Lemmatize: It\n",
      "Actual: originated  Lemmatize: originated\n",
      "Actual: from  Lemmatize: from\n",
      "Actual: the  Lemmatize: the\n",
      "Actual: idea  Lemmatize: idea\n",
      "Actual: that  Lemmatize: that\n",
      "Actual: there  Lemmatize: there\n",
      "Actual: are  Lemmatize: are\n",
      "Actual: readers  Lemmatize: reader\n",
      "Actual: who  Lemmatize: who\n",
      "Actual: prefer  Lemmatize: prefer\n",
      "Actual: learning  Lemmatize: learning\n",
      "Actual: new  Lemmatize: new\n",
      "Actual: skills  Lemmatize: skill\n",
      "Actual: from  Lemmatize: from\n",
      "Actual: the  Lemmatize: the\n",
      "Actual: comforts  Lemmatize: comfort\n",
      "Actual: of  Lemmatize: of\n",
      "Actual: their  Lemmatize: their\n",
      "Actual: drawing  Lemmatize: drawing\n",
      "Actual: rooms  Lemmatize: room\n"
     ]
    }
   ],
   "source": [
    "from nltk.stem import WordNetLemmatizer\n",
    "Word_Net_Lemmatizer=WordNetLemmatizer() #creating an instance of the class\n",
    "# creating a list of some words to be Lammatized\n",
    "word_data= \"It originated from the idea that there are readers who prefer learning new skills from the comforts of their drawing rooms\"\n",
    "words=word_tokenize(word_data)\n",
    "for w in words:\n",
    "    print(\"Actual: %s  Lemmatize: %s\"  % (w,Word_Net_Lemmatizer.lemmatize(w)))"
   ]
  },
  {
   "cell_type": "code",
   "execution_count": null,
   "id": "ba14e8cf",
   "metadata": {},
   "outputs": [],
   "source": []
  }
 ],
 "metadata": {
  "kernelspec": {
   "display_name": "Python 3 (ipykernel)",
   "language": "python",
   "name": "python3"
  },
  "language_info": {
   "codemirror_mode": {
    "name": "ipython",
    "version": 3
   },
   "file_extension": ".py",
   "mimetype": "text/x-python",
   "name": "python",
   "nbconvert_exporter": "python",
   "pygments_lexer": "ipython3",
   "version": "3.9.7"
  }
 },
 "nbformat": 4,
 "nbformat_minor": 5
}
